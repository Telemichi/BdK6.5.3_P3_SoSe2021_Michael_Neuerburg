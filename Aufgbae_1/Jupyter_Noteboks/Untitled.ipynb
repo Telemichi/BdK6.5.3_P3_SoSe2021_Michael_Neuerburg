{
 "cells": [
  {
   "cell_type": "code",
   "execution_count": 30,
   "metadata": {},
   "outputs": [],
   "source": [
    "import urllib.request\n",
    "import json\n"
   ]
  },
  {
   "cell_type": "code",
   "execution_count": 31,
   "metadata": {},
   "outputs": [],
   "source": [
    "base_url = \"https://eutils.ncbi.nlm.nih.gov/entrez/eutils/esummary.fcgi?db=pubmed&retmode=json&id=\"\n",
    "doi = \"27708327\"\n",
    "full_url = base_url + doi"
   ]
  },
  {
   "cell_type": "code",
   "execution_count": 32,
   "metadata": {},
   "outputs": [],
   "source": [
    "doi_json_data = urllib.request.urlopen(full_url).read()"
   ]
  },
  {
   "cell_type": "code",
   "execution_count": 33,
   "metadata": {
    "scrolled": true
   },
   "outputs": [
    {
     "name": "stdout",
     "output_type": "stream",
     "text": [
      "b'{\"header\":{\"type\":\"esummary\",\"version\":\"0.3\"},\"result\":{\"uids\":[\"27708327\"],\"27708327\":{\"uid\":\"27708327\",\"pubdate\":\"2016 Oct 6\",\"epubdate\":\"\",\"source\":\"Nature\",\"authors\":[{\"name\":\"Perkel J\",\"authtype\":\"Author\",\"clusterid\":\"\"}],\"lastauthor\":\"Perkel J\",\"title\":\"Democratic databases: science on GitHub.\",\"sorttitle\":\"democratic databases science on github\",\"volume\":\"538\",\"issue\":\"7623\",\"pages\":\"127-128\",\"lang\":[\"eng\"],\"nlmuniqueid\":\"0410462\",\"issn\":\"0028-0836\",\"essn\":\"1476-4687\",\"pubtype\":[\"Journal Article\"],\"recordstatus\":\"PubMed - indexed for MEDLINE\",\"pubstatus\":\"4\",\"articleids\":[{\"idtype\":\"pubmed\",\"idtypen\":1,\"value\":\"27708327\"},{\"idtype\":\"pii\",\"idtypen\":4,\"value\":\"538127a\"},{\"idtype\":\"doi\",\"idtypen\":3,\"value\":\"10.1038/538127a\"},{\"idtype\":\"rid\",\"idtypen\":8,\"value\":\"27708327\"},{\"idtype\":\"eid\",\"idtypen\":8,\"value\":\"27708327\"}],\"history\":[{\"pubstatus\":\"entrez\",\"date\":\"2016/10/07 06:00\"},{\"pubstatus\":\"pubmed\",\"date\":\"2016/10/07 06:00\"},{\"pubstatus\":\"medline\",\"date\":\"2016/11/03 06:00\"}],\"references\":[{\"refsource\":\"Nature. 2016 Oct 31;539(7627):126\",\"reftype\":\"Erratum in\",\"pmid\":27808210,\"note\":\"\"}],\"attributes\":[],\"pmcrefcount\":11,\"fulljournalname\":\"Nature\",\"elocationid\":\"doi: 10.1038/538127a\",\"doctype\":\"citation\",\"srccontriblist\":[],\"booktitle\":\"\",\"medium\":\"\",\"edition\":\"\",\"publisherlocation\":\"\",\"publishername\":\"\",\"srcdate\":\"\",\"reportnumber\":\"\",\"availablefromurl\":\"\",\"locationlabel\":\"\",\"doccontriblist\":[],\"docdate\":\"\",\"bookname\":\"\",\"chapter\":\"\",\"sortpubdate\":\"2016/10/06 00:00\",\"sortfirstauthor\":\"Perkel J\",\"vernaculartitle\":\"\"}}}\\n'\n"
     ]
    }
   ],
   "source": [
    "print(doi_json_data)"
   ]
  },
  {
   "cell_type": "code",
   "execution_count": 34,
   "metadata": {},
   "outputs": [
    {
     "data": {
      "text/plain": [
       "bytes"
      ]
     },
     "execution_count": 34,
     "metadata": {},
     "output_type": "execute_result"
    }
   ],
   "source": [
    "type(doi_json_data)"
   ]
  },
  {
   "cell_type": "code",
   "execution_count": 35,
   "metadata": {},
   "outputs": [],
   "source": [
    "doi_data = json.loads(doi_json_data)\n"
   ]
  },
  {
   "cell_type": "code",
   "execution_count": 36,
   "metadata": {},
   "outputs": [
    {
     "data": {
      "text/plain": [
       "dict"
      ]
     },
     "execution_count": 36,
     "metadata": {},
     "output_type": "execute_result"
    }
   ],
   "source": [
    "type(doi_data\n",
    "    )"
   ]
  },
  {
   "cell_type": "code",
   "execution_count": 37,
   "metadata": {},
   "outputs": [
    {
     "name": "stdout",
     "output_type": "stream",
     "text": [
      "{'header': {'type': 'esummary', 'version': '0.3'}, 'result': {'uids': ['27708327'], '27708327': {'uid': '27708327', 'pubdate': '2016 Oct 6', 'epubdate': '', 'source': 'Nature', 'authors': [{'name': 'Perkel J', 'authtype': 'Author', 'clusterid': ''}], 'lastauthor': 'Perkel J', 'title': 'Democratic databases: science on GitHub.', 'sorttitle': 'democratic databases science on github', 'volume': '538', 'issue': '7623', 'pages': '127-128', 'lang': ['eng'], 'nlmuniqueid': '0410462', 'issn': '0028-0836', 'essn': '1476-4687', 'pubtype': ['Journal Article'], 'recordstatus': 'PubMed - indexed for MEDLINE', 'pubstatus': '4', 'articleids': [{'idtype': 'pubmed', 'idtypen': 1, 'value': '27708327'}, {'idtype': 'pii', 'idtypen': 4, 'value': '538127a'}, {'idtype': 'doi', 'idtypen': 3, 'value': '10.1038/538127a'}, {'idtype': 'rid', 'idtypen': 8, 'value': '27708327'}, {'idtype': 'eid', 'idtypen': 8, 'value': '27708327'}], 'history': [{'pubstatus': 'entrez', 'date': '2016/10/07 06:00'}, {'pubstatus': 'pubmed', 'date': '2016/10/07 06:00'}, {'pubstatus': 'medline', 'date': '2016/11/03 06:00'}], 'references': [{'refsource': 'Nature. 2016 Oct 31;539(7627):126', 'reftype': 'Erratum in', 'pmid': 27808210, 'note': ''}], 'attributes': [], 'pmcrefcount': 11, 'fulljournalname': 'Nature', 'elocationid': 'doi: 10.1038/538127a', 'doctype': 'citation', 'srccontriblist': [], 'booktitle': '', 'medium': '', 'edition': '', 'publisherlocation': '', 'publishername': '', 'srcdate': '', 'reportnumber': '', 'availablefromurl': '', 'locationlabel': '', 'doccontriblist': [], 'docdate': '', 'bookname': '', 'chapter': '', 'sortpubdate': '2016/10/06 00:00', 'sortfirstauthor': 'Perkel J', 'vernaculartitle': ''}}}\n"
     ]
    }
   ],
   "source": [
    "print(doi_data)"
   ]
  },
  {
   "cell_type": "code",
   "execution_count": 38,
   "metadata": {},
   "outputs": [
    {
     "data": {
      "text/plain": [
       "dict_keys(['header', 'result'])"
      ]
     },
     "execution_count": 38,
     "metadata": {},
     "output_type": "execute_result"
    }
   ],
   "source": [
    "doi_data.keys()\n"
   ]
  },
  {
   "cell_type": "code",
   "execution_count": 39,
   "metadata": {},
   "outputs": [
    {
     "data": {
      "text/plain": [
       "{'type': 'esummary', 'version': '0.3'}"
      ]
     },
     "execution_count": 39,
     "metadata": {},
     "output_type": "execute_result"
    }
   ],
   "source": [
    "doi_data[\"header\"]"
   ]
  },
  {
   "cell_type": "code",
   "execution_count": 40,
   "metadata": {},
   "outputs": [],
   "source": [
    "dois = [\"31452104\",\n",
    "        \"31437182\",\n",
    "        \"31455877\",\n",
    "        \"31535994\"]"
   ]
  },
  {
   "cell_type": "code",
   "execution_count": 41,
   "metadata": {},
   "outputs": [],
   "source": [
    "for doi in dois: \n",
    "    full_url = base_url + doi\n",
    "    doi_json_data = urllib.request.urlopen(full_url).read()\n",
    "    doi_data = json.loads(doi_json_data)\n"
   ]
  },
  {
   "cell_type": "code",
   "execution_count": 42,
   "metadata": {},
   "outputs": [
    {
     "name": "stdout",
     "output_type": "stream",
     "text": [
      "{'header': {'type': 'esummary', 'version': '0.3'}, 'result': {'uids': ['31535994'], '31535994': {'uid': '31535994', 'pubdate': '2019 Sep 16', 'epubdate': '2019 Sep 16', 'source': 'IEEE Trans Image Process', 'authors': [{'name': 'Liu C', 'authtype': 'Author', 'clusterid': ''}, {'name': 'Ding W', 'authtype': 'Author', 'clusterid': ''}, {'name': 'Yang J', 'authtype': 'Author', 'clusterid': ''}, {'name': 'Murino V', 'authtype': 'Author', 'clusterid': ''}, {'name': 'Zhang B', 'authtype': 'Author', 'clusterid': ''}, {'name': 'Han J', 'authtype': 'Author', 'clusterid': ''}, {'name': 'Guo G', 'authtype': 'Author', 'clusterid': ''}], 'lastauthor': 'Guo G', 'title': 'Aggregation Signature for Small Object Tracking.', 'sorttitle': 'aggregation signature for small object tracking', 'volume': '', 'issue': '', 'pages': '', 'lang': ['eng'], 'nlmuniqueid': '9886191', 'issn': '1057-7149', 'essn': '1941-0042', 'pubtype': ['Journal Article'], 'recordstatus': 'PubMed - as supplied by publisher', 'pubstatus': '10', 'articleids': [{'idtype': 'pubmed', 'idtypen': 1, 'value': '31535994'}, {'idtype': 'doi', 'idtypen': 3, 'value': '10.1109/TIP.2019.2940477'}, {'idtype': 'rid', 'idtypen': 8, 'value': '31535994'}, {'idtype': 'eid', 'idtypen': 8, 'value': '31535994'}], 'history': [{'pubstatus': 'entrez', 'date': '2019/09/20 06:00'}, {'pubstatus': 'pubmed', 'date': '2019/09/20 06:00'}, {'pubstatus': 'medline', 'date': '2019/09/20 06:00'}], 'references': [], 'attributes': ['Has Abstract'], 'pmcrefcount': '', 'fulljournalname': 'IEEE transactions on image processing : a publication of the IEEE Signal Processing Society', 'elocationid': 'doi: 10.1109/TIP.2019.2940477', 'doctype': 'citation', 'srccontriblist': [], 'booktitle': '', 'medium': '', 'edition': '', 'publisherlocation': '', 'publishername': '', 'srcdate': '', 'reportnumber': '', 'availablefromurl': '', 'locationlabel': '', 'doccontriblist': [], 'docdate': '', 'bookname': '', 'chapter': '', 'sortpubdate': '2019/09/16 00:00', 'sortfirstauthor': 'Liu C', 'vernaculartitle': ''}}}\n"
     ]
    }
   ],
   "source": [
    "print(doi_data)"
   ]
  },
  {
   "cell_type": "code",
   "execution_count": 43,
   "metadata": {},
   "outputs": [
    {
     "ename": "KeyError",
     "evalue": "'title'",
     "output_type": "error",
     "traceback": [
      "\u001b[1;31m---------------------------------------------------------------------------\u001b[0m",
      "\u001b[1;31mKeyError\u001b[0m                                  Traceback (most recent call last)",
      "\u001b[1;32m<ipython-input-43-4cf3ac11f936>\u001b[0m in \u001b[0;36m<module>\u001b[1;34m\u001b[0m\n\u001b[1;32m----> 1\u001b[1;33m \u001b[0mprint\u001b[0m\u001b[1;33m(\u001b[0m\u001b[0mdoi_data\u001b[0m\u001b[1;33m[\u001b[0m\u001b[1;34m\"title\"\u001b[0m\u001b[1;33m]\u001b[0m\u001b[1;33m)\u001b[0m\u001b[1;33m\u001b[0m\u001b[1;33m\u001b[0m\u001b[0m\n\u001b[0m",
      "\u001b[1;31mKeyError\u001b[0m: 'title'"
     ]
    }
   ],
   "source": [
    "print(doi_data[\"title\"])"
   ]
  },
  {
   "cell_type": "code",
   "execution_count": 44,
   "metadata": {},
   "outputs": [
    {
     "data": {
      "text/plain": [
       "dict_keys(['header', 'result'])"
      ]
     },
     "execution_count": 44,
     "metadata": {},
     "output_type": "execute_result"
    }
   ],
   "source": [
    "doi_data.keys()"
   ]
  },
  {
   "cell_type": "code",
   "execution_count": 45,
   "metadata": {},
   "outputs": [
    {
     "data": {
      "text/plain": [
       "{'uids': ['31535994'],\n",
       " '31535994': {'uid': '31535994',\n",
       "  'pubdate': '2019 Sep 16',\n",
       "  'epubdate': '2019 Sep 16',\n",
       "  'source': 'IEEE Trans Image Process',\n",
       "  'authors': [{'name': 'Liu C', 'authtype': 'Author', 'clusterid': ''},\n",
       "   {'name': 'Ding W', 'authtype': 'Author', 'clusterid': ''},\n",
       "   {'name': 'Yang J', 'authtype': 'Author', 'clusterid': ''},\n",
       "   {'name': 'Murino V', 'authtype': 'Author', 'clusterid': ''},\n",
       "   {'name': 'Zhang B', 'authtype': 'Author', 'clusterid': ''},\n",
       "   {'name': 'Han J', 'authtype': 'Author', 'clusterid': ''},\n",
       "   {'name': 'Guo G', 'authtype': 'Author', 'clusterid': ''}],\n",
       "  'lastauthor': 'Guo G',\n",
       "  'title': 'Aggregation Signature for Small Object Tracking.',\n",
       "  'sorttitle': 'aggregation signature for small object tracking',\n",
       "  'volume': '',\n",
       "  'issue': '',\n",
       "  'pages': '',\n",
       "  'lang': ['eng'],\n",
       "  'nlmuniqueid': '9886191',\n",
       "  'issn': '1057-7149',\n",
       "  'essn': '1941-0042',\n",
       "  'pubtype': ['Journal Article'],\n",
       "  'recordstatus': 'PubMed - as supplied by publisher',\n",
       "  'pubstatus': '10',\n",
       "  'articleids': [{'idtype': 'pubmed', 'idtypen': 1, 'value': '31535994'},\n",
       "   {'idtype': 'doi', 'idtypen': 3, 'value': '10.1109/TIP.2019.2940477'},\n",
       "   {'idtype': 'rid', 'idtypen': 8, 'value': '31535994'},\n",
       "   {'idtype': 'eid', 'idtypen': 8, 'value': '31535994'}],\n",
       "  'history': [{'pubstatus': 'entrez', 'date': '2019/09/20 06:00'},\n",
       "   {'pubstatus': 'pubmed', 'date': '2019/09/20 06:00'},\n",
       "   {'pubstatus': 'medline', 'date': '2019/09/20 06:00'}],\n",
       "  'references': [],\n",
       "  'attributes': ['Has Abstract'],\n",
       "  'pmcrefcount': '',\n",
       "  'fulljournalname': 'IEEE transactions on image processing : a publication of the IEEE Signal Processing Society',\n",
       "  'elocationid': 'doi: 10.1109/TIP.2019.2940477',\n",
       "  'doctype': 'citation',\n",
       "  'srccontriblist': [],\n",
       "  'booktitle': '',\n",
       "  'medium': '',\n",
       "  'edition': '',\n",
       "  'publisherlocation': '',\n",
       "  'publishername': '',\n",
       "  'srcdate': '',\n",
       "  'reportnumber': '',\n",
       "  'availablefromurl': '',\n",
       "  'locationlabel': '',\n",
       "  'doccontriblist': [],\n",
       "  'docdate': '',\n",
       "  'bookname': '',\n",
       "  'chapter': '',\n",
       "  'sortpubdate': '2019/09/16 00:00',\n",
       "  'sortfirstauthor': 'Liu C',\n",
       "  'vernaculartitle': ''}}"
      ]
     },
     "execution_count": 45,
     "metadata": {},
     "output_type": "execute_result"
    }
   ],
   "source": [
    "doi_data[\"result\"]"
   ]
  },
  {
   "cell_type": "code",
   "execution_count": 46,
   "metadata": {
    "scrolled": false
   },
   "outputs": [
    {
     "data": {
      "text/plain": [
       "['31535994']"
      ]
     },
     "execution_count": 46,
     "metadata": {},
     "output_type": "execute_result"
    }
   ],
   "source": [
    "result = doi_data[\"result\"]\n",
    "result[\"uids\"]"
   ]
  },
  {
   "cell_type": "code",
   "execution_count": 47,
   "metadata": {
    "scrolled": true
   },
   "outputs": [
    {
     "ename": "SyntaxError",
     "evalue": "cannot assign to function call (<ipython-input-47-c884055668c2>, line 1)",
     "output_type": "error",
     "traceback": [
      "\u001b[1;36m  File \u001b[1;32m\"<ipython-input-47-c884055668c2>\"\u001b[1;36m, line \u001b[1;32m1\u001b[0m\n\u001b[1;33m    str(31535994) = doi_data[\"31535994\"]\u001b[0m\n\u001b[1;37m    ^\u001b[0m\n\u001b[1;31mSyntaxError\u001b[0m\u001b[1;31m:\u001b[0m cannot assign to function call\n"
     ]
    }
   ],
   "source": [
    "str(31535994) = doi_data[\"31535994\"]\n",
    "str(31535994)[\"title\"]\n",
    "\n",
    "type(31535994)\n",
    "\n"
   ]
  },
  {
   "cell_type": "code",
   "execution_count": 48,
   "metadata": {},
   "outputs": [
    {
     "data": {
      "text/plain": [
       "'31535994'"
      ]
     },
     "execution_count": 48,
     "metadata": {},
     "output_type": "execute_result"
    }
   ],
   "source": [
    "str(31535994)"
   ]
  },
  {
   "cell_type": "code",
   "execution_count": 49,
   "metadata": {},
   "outputs": [
    {
     "data": {
      "text/plain": [
       "int"
      ]
     },
     "execution_count": 49,
     "metadata": {},
     "output_type": "execute_result"
    }
   ],
   "source": [
    "type(31535994)"
   ]
  },
  {
   "cell_type": "code",
   "execution_count": 50,
   "metadata": {},
   "outputs": [
    {
     "data": {
      "text/plain": [
       "str"
      ]
     },
     "execution_count": 50,
     "metadata": {},
     "output_type": "execute_result"
    }
   ],
   "source": [
    "type('31535994')"
   ]
  },
  {
   "cell_type": "code",
   "execution_count": 51,
   "metadata": {},
   "outputs": [
    {
     "ename": "SyntaxError",
     "evalue": "cannot assign to function call (<ipython-input-51-43f12aa20559>, line 1)",
     "output_type": "error",
     "traceback": [
      "\u001b[1;36m  File \u001b[1;32m\"<ipython-input-51-43f12aa20559>\"\u001b[1;36m, line \u001b[1;32m1\u001b[0m\n\u001b[1;33m    str('31535994') = doi_data[\"31535994\"]\u001b[0m\n\u001b[1;37m    ^\u001b[0m\n\u001b[1;31mSyntaxError\u001b[0m\u001b[1;31m:\u001b[0m cannot assign to function call\n"
     ]
    }
   ],
   "source": [
    "str('31535994') = doi_data[\"31535994\"]\n",
    "str('31535994')[\"title\"]"
   ]
  },
  {
   "cell_type": "code",
   "execution_count": null,
   "metadata": {},
   "outputs": [],
   "source": []
  }
 ],
 "metadata": {
  "kernelspec": {
   "display_name": "Python 3",
   "language": "python",
   "name": "python3"
  },
  "language_info": {
   "codemirror_mode": {
    "name": "ipython",
    "version": 3
   },
   "file_extension": ".py",
   "mimetype": "text/x-python",
   "name": "python",
   "nbconvert_exporter": "python",
   "pygments_lexer": "ipython3",
   "version": "3.8.5"
  }
 },
 "nbformat": 4,
 "nbformat_minor": 4
}
