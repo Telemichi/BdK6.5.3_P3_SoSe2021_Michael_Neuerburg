{
 "cells": [
  {
   "cell_type": "code",
   "execution_count": 2,
   "metadata": {},
   "outputs": [],
   "source": [
    "import urllib.request\n",
    "import json\n"
   ]
  },
  {
   "cell_type": "code",
   "execution_count": 14,
   "metadata": {},
   "outputs": [],
   "source": [
    "base_url = \"https://eutils.ncbi.nlm.nih.gov/entrez/eutils/esummary.fcgi?db=pubmed&retmode=json&id=\"\n",
    "doi = \"27708327\"\n",
    "full_url = base_url + doi"
   ]
  },
  {
   "cell_type": "code",
   "execution_count": 15,
   "metadata": {},
   "outputs": [],
   "source": [
    "doi_json_data = urllib.request.urlopen(full_url).read()"
   ]
  },
  {
   "cell_type": "code",
   "execution_count": 16,
   "metadata": {
    "scrolled": true
   },
   "outputs": [
    {
     "name": "stdout",
     "output_type": "stream",
     "text": [
      "b'{\"header\":{\"type\":\"esummary\",\"version\":\"0.3\"},\"result\":{\"uids\":[\"27708327\"],\"27708327\":{\"uid\":\"27708327\",\"pubdate\":\"2016 Oct 6\",\"epubdate\":\"\",\"source\":\"Nature\",\"authors\":[{\"name\":\"Perkel J\",\"authtype\":\"Author\",\"clusterid\":\"\"}],\"lastauthor\":\"Perkel J\",\"title\":\"Democratic databases: science on GitHub.\",\"sorttitle\":\"democratic databases science on github\",\"volume\":\"538\",\"issue\":\"7623\",\"pages\":\"127-128\",\"lang\":[\"eng\"],\"nlmuniqueid\":\"0410462\",\"issn\":\"0028-0836\",\"essn\":\"1476-4687\",\"pubtype\":[\"Journal Article\"],\"recordstatus\":\"PubMed - indexed for MEDLINE\",\"pubstatus\":\"4\",\"articleids\":[{\"idtype\":\"pubmed\",\"idtypen\":1,\"value\":\"27708327\"},{\"idtype\":\"pii\",\"idtypen\":4,\"value\":\"538127a\"},{\"idtype\":\"doi\",\"idtypen\":3,\"value\":\"10.1038/538127a\"},{\"idtype\":\"rid\",\"idtypen\":8,\"value\":\"27708327\"},{\"idtype\":\"eid\",\"idtypen\":8,\"value\":\"27708327\"}],\"history\":[{\"pubstatus\":\"entrez\",\"date\":\"2016/10/07 06:00\"},{\"pubstatus\":\"pubmed\",\"date\":\"2016/10/07 06:00\"},{\"pubstatus\":\"medline\",\"date\":\"2016/11/03 06:00\"}],\"references\":[{\"refsource\":\"Nature. 2016 Oct 31;539(7627):126\",\"reftype\":\"Erratum in\",\"pmid\":27808210,\"note\":\"\"}],\"attributes\":[],\"pmcrefcount\":11,\"fulljournalname\":\"Nature\",\"elocationid\":\"doi: 10.1038/538127a\",\"doctype\":\"citation\",\"srccontriblist\":[],\"booktitle\":\"\",\"medium\":\"\",\"edition\":\"\",\"publisherlocation\":\"\",\"publishername\":\"\",\"srcdate\":\"\",\"reportnumber\":\"\",\"availablefromurl\":\"\",\"locationlabel\":\"\",\"doccontriblist\":[],\"docdate\":\"\",\"bookname\":\"\",\"chapter\":\"\",\"sortpubdate\":\"2016/10/06 00:00\",\"sortfirstauthor\":\"Perkel J\",\"vernaculartitle\":\"\"}}}\\n'\n"
     ]
    }
   ],
   "source": [
    "print(doi_json_data)"
   ]
  },
  {
   "cell_type": "code",
   "execution_count": 17,
   "metadata": {},
   "outputs": [
    {
     "data": {
      "text/plain": [
       "bytes"
      ]
     },
     "execution_count": 17,
     "metadata": {},
     "output_type": "execute_result"
    }
   ],
   "source": [
    "type(doi_json_data)"
   ]
  },
  {
   "cell_type": "code",
   "execution_count": 18,
   "metadata": {},
   "outputs": [],
   "source": [
    "doi_data = json.loads(doi_json_data)\n"
   ]
  },
  {
   "cell_type": "code",
   "execution_count": 19,
   "metadata": {},
   "outputs": [
    {
     "data": {
      "text/plain": [
       "dict"
      ]
     },
     "execution_count": 19,
     "metadata": {},
     "output_type": "execute_result"
    }
   ],
   "source": [
    "type(doi_data\n",
    "    )"
   ]
  },
  {
   "cell_type": "code",
   "execution_count": 20,
   "metadata": {
    "scrolled": true
   },
   "outputs": [
    {
     "name": "stdout",
     "output_type": "stream",
     "text": [
      "{'header': {'type': 'esummary', 'version': '0.3'}, 'result': {'uids': ['27708327'], '27708327': {'uid': '27708327', 'pubdate': '2016 Oct 6', 'epubdate': '', 'source': 'Nature', 'authors': [{'name': 'Perkel J', 'authtype': 'Author', 'clusterid': ''}], 'lastauthor': 'Perkel J', 'title': 'Democratic databases: science on GitHub.', 'sorttitle': 'democratic databases science on github', 'volume': '538', 'issue': '7623', 'pages': '127-128', 'lang': ['eng'], 'nlmuniqueid': '0410462', 'issn': '0028-0836', 'essn': '1476-4687', 'pubtype': ['Journal Article'], 'recordstatus': 'PubMed - indexed for MEDLINE', 'pubstatus': '4', 'articleids': [{'idtype': 'pubmed', 'idtypen': 1, 'value': '27708327'}, {'idtype': 'pii', 'idtypen': 4, 'value': '538127a'}, {'idtype': 'doi', 'idtypen': 3, 'value': '10.1038/538127a'}, {'idtype': 'rid', 'idtypen': 8, 'value': '27708327'}, {'idtype': 'eid', 'idtypen': 8, 'value': '27708327'}], 'history': [{'pubstatus': 'entrez', 'date': '2016/10/07 06:00'}, {'pubstatus': 'pubmed', 'date': '2016/10/07 06:00'}, {'pubstatus': 'medline', 'date': '2016/11/03 06:00'}], 'references': [{'refsource': 'Nature. 2016 Oct 31;539(7627):126', 'reftype': 'Erratum in', 'pmid': 27808210, 'note': ''}], 'attributes': [], 'pmcrefcount': 11, 'fulljournalname': 'Nature', 'elocationid': 'doi: 10.1038/538127a', 'doctype': 'citation', 'srccontriblist': [], 'booktitle': '', 'medium': '', 'edition': '', 'publisherlocation': '', 'publishername': '', 'srcdate': '', 'reportnumber': '', 'availablefromurl': '', 'locationlabel': '', 'doccontriblist': [], 'docdate': '', 'bookname': '', 'chapter': '', 'sortpubdate': '2016/10/06 00:00', 'sortfirstauthor': 'Perkel J', 'vernaculartitle': ''}}}\n"
     ]
    }
   ],
   "source": [
    "print(doi_data)"
   ]
  },
  {
   "cell_type": "code",
   "execution_count": 21,
   "metadata": {},
   "outputs": [
    {
     "data": {
      "text/plain": [
       "dict_keys(['header', 'result'])"
      ]
     },
     "execution_count": 21,
     "metadata": {},
     "output_type": "execute_result"
    }
   ],
   "source": [
    "doi_data.keys()\n"
   ]
  },
  {
   "cell_type": "code",
   "execution_count": 22,
   "metadata": {},
   "outputs": [
    {
     "data": {
      "text/plain": [
       "{'type': 'esummary', 'version': '0.3'}"
      ]
     },
     "execution_count": 22,
     "metadata": {},
     "output_type": "execute_result"
    }
   ],
   "source": [
    "doi_data[\"header\"]"
   ]
  },
  {
   "cell_type": "code",
   "execution_count": 23,
   "metadata": {},
   "outputs": [],
   "source": [
    "dois = [\"31452104\",\n",
    "        \"31437182\",\n",
    "        \"31455877\",\n",
    "        \"31535994\"]"
   ]
  },
  {
   "cell_type": "code",
   "execution_count": 24,
   "metadata": {},
   "outputs": [],
   "source": [
    "for doi in dois: \n",
    "    full_url = base_url + doi\n",
    "    doi_json_data = urllib.request.urlopen(full_url).read()\n",
    "    doi_data = json.loads(doi_json_data)\n"
   ]
  },
  {
   "cell_type": "code",
   "execution_count": 25,
   "metadata": {},
   "outputs": [
    {
     "name": "stdout",
     "output_type": "stream",
     "text": [
      "{'header': {'type': 'esummary', 'version': '0.3'}, 'result': {'uids': ['31535994'], '31535994': {'uid': '31535994', 'pubdate': '2019 Sep 16', 'epubdate': '2019 Sep 16', 'source': 'IEEE Trans Image Process', 'authors': [{'name': 'Liu C', 'authtype': 'Author', 'clusterid': ''}, {'name': 'Ding W', 'authtype': 'Author', 'clusterid': ''}, {'name': 'Yang J', 'authtype': 'Author', 'clusterid': ''}, {'name': 'Murino V', 'authtype': 'Author', 'clusterid': ''}, {'name': 'Zhang B', 'authtype': 'Author', 'clusterid': ''}, {'name': 'Han J', 'authtype': 'Author', 'clusterid': ''}, {'name': 'Guo G', 'authtype': 'Author', 'clusterid': ''}], 'lastauthor': 'Guo G', 'title': 'Aggregation Signature for Small Object Tracking.', 'sorttitle': 'aggregation signature for small object tracking', 'volume': '', 'issue': '', 'pages': '', 'lang': ['eng'], 'nlmuniqueid': '9886191', 'issn': '1057-7149', 'essn': '1941-0042', 'pubtype': ['Journal Article'], 'recordstatus': 'PubMed - as supplied by publisher', 'pubstatus': '10', 'articleids': [{'idtype': 'pubmed', 'idtypen': 1, 'value': '31535994'}, {'idtype': 'doi', 'idtypen': 3, 'value': '10.1109/TIP.2019.2940477'}, {'idtype': 'rid', 'idtypen': 8, 'value': '31535994'}, {'idtype': 'eid', 'idtypen': 8, 'value': '31535994'}], 'history': [{'pubstatus': 'entrez', 'date': '2019/09/20 06:00'}, {'pubstatus': 'pubmed', 'date': '2019/09/20 06:00'}, {'pubstatus': 'medline', 'date': '2019/09/20 06:00'}], 'references': [], 'attributes': ['Has Abstract'], 'pmcrefcount': '', 'fulljournalname': 'IEEE transactions on image processing : a publication of the IEEE Signal Processing Society', 'elocationid': 'doi: 10.1109/TIP.2019.2940477', 'doctype': 'citation', 'srccontriblist': [], 'booktitle': '', 'medium': '', 'edition': '', 'publisherlocation': '', 'publishername': '', 'srcdate': '', 'reportnumber': '', 'availablefromurl': '', 'locationlabel': '', 'doccontriblist': [], 'docdate': '', 'bookname': '', 'chapter': '', 'sortpubdate': '2019/09/16 00:00', 'sortfirstauthor': 'Liu C', 'vernaculartitle': ''}}}\n"
     ]
    }
   ],
   "source": [
    "print(doi_data)"
   ]
  },
  {
   "cell_type": "code",
   "execution_count": 27,
   "metadata": {},
   "outputs": [
    {
     "data": {
      "text/plain": [
       "dict_keys(['header', 'result'])"
      ]
     },
     "execution_count": 27,
     "metadata": {},
     "output_type": "execute_result"
    }
   ],
   "source": [
    "doi_data.keys()"
   ]
  },
  {
   "cell_type": "code",
   "execution_count": 28,
   "metadata": {},
   "outputs": [
    {
     "data": {
      "text/plain": [
       "{'uids': ['31535994'],\n",
       " '31535994': {'uid': '31535994',\n",
       "  'pubdate': '2019 Sep 16',\n",
       "  'epubdate': '2019 Sep 16',\n",
       "  'source': 'IEEE Trans Image Process',\n",
       "  'authors': [{'name': 'Liu C', 'authtype': 'Author', 'clusterid': ''},\n",
       "   {'name': 'Ding W', 'authtype': 'Author', 'clusterid': ''},\n",
       "   {'name': 'Yang J', 'authtype': 'Author', 'clusterid': ''},\n",
       "   {'name': 'Murino V', 'authtype': 'Author', 'clusterid': ''},\n",
       "   {'name': 'Zhang B', 'authtype': 'Author', 'clusterid': ''},\n",
       "   {'name': 'Han J', 'authtype': 'Author', 'clusterid': ''},\n",
       "   {'name': 'Guo G', 'authtype': 'Author', 'clusterid': ''}],\n",
       "  'lastauthor': 'Guo G',\n",
       "  'title': 'Aggregation Signature for Small Object Tracking.',\n",
       "  'sorttitle': 'aggregation signature for small object tracking',\n",
       "  'volume': '',\n",
       "  'issue': '',\n",
       "  'pages': '',\n",
       "  'lang': ['eng'],\n",
       "  'nlmuniqueid': '9886191',\n",
       "  'issn': '1057-7149',\n",
       "  'essn': '1941-0042',\n",
       "  'pubtype': ['Journal Article'],\n",
       "  'recordstatus': 'PubMed - as supplied by publisher',\n",
       "  'pubstatus': '10',\n",
       "  'articleids': [{'idtype': 'pubmed', 'idtypen': 1, 'value': '31535994'},\n",
       "   {'idtype': 'doi', 'idtypen': 3, 'value': '10.1109/TIP.2019.2940477'},\n",
       "   {'idtype': 'rid', 'idtypen': 8, 'value': '31535994'},\n",
       "   {'idtype': 'eid', 'idtypen': 8, 'value': '31535994'}],\n",
       "  'history': [{'pubstatus': 'entrez', 'date': '2019/09/20 06:00'},\n",
       "   {'pubstatus': 'pubmed', 'date': '2019/09/20 06:00'},\n",
       "   {'pubstatus': 'medline', 'date': '2019/09/20 06:00'}],\n",
       "  'references': [],\n",
       "  'attributes': ['Has Abstract'],\n",
       "  'pmcrefcount': '',\n",
       "  'fulljournalname': 'IEEE transactions on image processing : a publication of the IEEE Signal Processing Society',\n",
       "  'elocationid': 'doi: 10.1109/TIP.2019.2940477',\n",
       "  'doctype': 'citation',\n",
       "  'srccontriblist': [],\n",
       "  'booktitle': '',\n",
       "  'medium': '',\n",
       "  'edition': '',\n",
       "  'publisherlocation': '',\n",
       "  'publishername': '',\n",
       "  'srcdate': '',\n",
       "  'reportnumber': '',\n",
       "  'availablefromurl': '',\n",
       "  'locationlabel': '',\n",
       "  'doccontriblist': [],\n",
       "  'docdate': '',\n",
       "  'bookname': '',\n",
       "  'chapter': '',\n",
       "  'sortpubdate': '2019/09/16 00:00',\n",
       "  'sortfirstauthor': 'Liu C',\n",
       "  'vernaculartitle': ''}}"
      ]
     },
     "execution_count": 28,
     "metadata": {},
     "output_type": "execute_result"
    }
   ],
   "source": [
    "doi_data[\"result\"]"
   ]
  },
  {
   "cell_type": "code",
   "execution_count": 29,
   "metadata": {
    "scrolled": false
   },
   "outputs": [
    {
     "data": {
      "text/plain": [
       "['31535994']"
      ]
     },
     "execution_count": 29,
     "metadata": {},
     "output_type": "execute_result"
    }
   ],
   "source": [
    "result = doi_data[\"result\"]\n",
    "result[\"uids\"]"
   ]
  },
  {
   "cell_type": "code",
   "execution_count": 46,
   "metadata": {
    "scrolled": true
   },
   "outputs": [
    {
     "name": "stdout",
     "output_type": "stream",
     "text": [
      "Aggregation Signature for Small Object Tracking.\n"
     ]
    }
   ],
   "source": [
    "print(doi_data[\"result\"][str('31535994')]['title'])\n",
    "\n"
   ]
  },
  {
   "cell_type": "code",
   "execution_count": 52,
   "metadata": {},
   "outputs": [
    {
     "name": "stdout",
     "output_type": "stream",
     "text": [
      "2019 Sep 16\n"
     ]
    }
   ],
   "source": [
    "print(doi_data[\"result\"][str(31535994)]['pubdate'])"
   ]
  },
  {
   "cell_type": "code",
   "execution_count": 57,
   "metadata": {
    "scrolled": true
   },
   "outputs": [
    {
     "name": "stdout",
     "output_type": "stream",
     "text": [
      "Titel und Publikationsdatum: Aggregation Signature for Small Object Tracking.2019 Sep 16\n"
     ]
    }
   ],
   "source": [
    "print (\"Titel und Publikationsdatum:\", doi_data[\"result\"][str(31535994)]['title'] + doi_data[\"result\"][str(31535994)]['pubdate'])"
   ]
  },
  {
   "cell_type": "code",
   "execution_count": 62,
   "metadata": {},
   "outputs": [
    {
     "name": "stdout",
     "output_type": "stream",
     "text": [
      "Titel: Molegro Virtual Docker for Docking. Publikationsdatum:2019\n",
      "Titel: TreeCluster: Clustering biological sequences using phylogenetic trees. Publikationsdatum:2019\n",
      "Titel: Principles of open source bioinstrumentation applied to the poseidon syringe pump system. Publikationsdatum:2019 Aug 27\n",
      "Titel: Aggregation Signature for Small Object Tracking. Publikationsdatum:2019 Sep 16\n"
     ]
    }
   ],
   "source": [
    "for doi in dois:\n",
    "    full_url = base_url + doi\n",
    "    doi_json_data = urllib.request.urlopen(full_url).read()\n",
    "    doi_data = json.loads(doi_json_data)\n",
    "    print(\"Titel:\", doi_data[\"result\"][str(doi)]['title'], \"Publikationsdatum:\" + doi_data[\"result\"][str(doi)]['pubdate'])"
   ]
  },
  {
   "cell_type": "code",
   "execution_count": 70,
   "metadata": {},
   "outputs": [
    {
     "name": "stdout",
     "output_type": "stream",
     "text": [
      "Der Titel ist Molegro Virtual Docker for Docking., dieser ist 2019 erschienen ist.\n",
      "Der Titel ist TreeCluster: Clustering biological sequences using phylogenetic trees., dieser ist 2019 erschienen ist.\n",
      "Der Titel ist Principles of open source bioinstrumentation applied to the poseidon syringe pump system., dieser ist 2019 Aug 27 erschienen ist.\n",
      "Der Titel ist Aggregation Signature for Small Object Tracking., dieser ist 2019 Sep 16 erschienen ist.\n"
     ]
    }
   ],
   "source": [
    "for doi in dois:\n",
    "    full_url = base_url + doi\n",
    "    doi_json_data = urllib.request.urlopen(full_url).read()\n",
    "    doi_data = json.loads(doi_json_data)\n",
    "    print(f'''Der Titel ist {doi_data[\"result\"][str(doi)]['title']}, dieser ist {doi_data[\"result\"][str(doi)]['pubdate']} erschienen ist.''')"
   ]
  },
  {
   "cell_type": "code",
   "execution_count": null,
   "metadata": {},
   "outputs": [],
   "source": []
  }
 ],
 "metadata": {
  "kernelspec": {
   "display_name": "Python 3",
   "language": "python",
   "name": "python3"
  },
  "language_info": {
   "codemirror_mode": {
    "name": "ipython",
    "version": 3
   },
   "file_extension": ".py",
   "mimetype": "text/x-python",
   "name": "python",
   "nbconvert_exporter": "python",
   "pygments_lexer": "ipython3",
   "version": "3.8.5"
  }
 },
 "nbformat": 4,
 "nbformat_minor": 4
}
